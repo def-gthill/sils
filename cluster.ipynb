{
 "cells": [
  {
   "cell_type": "code",
   "execution_count": 45,
   "metadata": {},
   "outputs": [],
   "source": [
    "from importlib import reload\n",
    "\n",
    "import pandas as pd\n",
    "\n",
    "import matplotlib.pyplot as plt\n",
    "import geopandas as gpd\n",
    "\n",
    "\n",
    "import langmap"
   ]
  },
  {
   "cell_type": "code",
   "execution_count": 35,
   "metadata": {},
   "outputs": [
    {
     "data": {
      "text/plain": [
       "<module 'langmap' from '/Users/gthill/projects/sils/langmap.py'>"
      ]
     },
     "execution_count": 35,
     "metadata": {},
     "output_type": "execute_result"
    }
   ],
   "source": [
    "reload(langmap)"
   ]
  },
  {
   "cell_type": "code",
   "execution_count": 2,
   "metadata": {},
   "outputs": [],
   "source": [
    "langs = pd.read_csv('data/languages.csv')"
   ]
  },
  {
   "cell_type": "code",
   "execution_count": 39,
   "metadata": {},
   "outputs": [
    {
     "data": {
      "text/html": [
       "<div>\n",
       "<style scoped>\n",
       "    .dataframe tbody tr th:only-of-type {\n",
       "        vertical-align: middle;\n",
       "    }\n",
       "\n",
       "    .dataframe tbody tr th {\n",
       "        vertical-align: top;\n",
       "    }\n",
       "\n",
       "    .dataframe thead th {\n",
       "        text-align: right;\n",
       "    }\n",
       "</style>\n",
       "<table border=\"1\" class=\"dataframe\">\n",
       "  <thead>\n",
       "    <tr style=\"text-align: right;\">\n",
       "      <th></th>\n",
       "      <th>ID</th>\n",
       "      <th>Name</th>\n",
       "      <th>Macroarea</th>\n",
       "      <th>Latitude</th>\n",
       "      <th>Longitude</th>\n",
       "      <th>Glottocode</th>\n",
       "      <th>ISO639P3code</th>\n",
       "      <th>Family</th>\n",
       "      <th>Subfamily</th>\n",
       "      <th>Genus</th>\n",
       "      <th>ISO_codes</th>\n",
       "      <th>Samples_100</th>\n",
       "      <th>Samples_200</th>\n",
       "      <th>geometry</th>\n",
       "    </tr>\n",
       "  </thead>\n",
       "  <tbody>\n",
       "    <tr>\n",
       "      <th>0</th>\n",
       "      <td>aab</td>\n",
       "      <td>Arapesh (Abu)</td>\n",
       "      <td>NaN</td>\n",
       "      <td>-3.450000</td>\n",
       "      <td>142.950000</td>\n",
       "      <td>NaN</td>\n",
       "      <td>NaN</td>\n",
       "      <td>Torricelli</td>\n",
       "      <td>NaN</td>\n",
       "      <td>Kombio-Arapesh</td>\n",
       "      <td>NaN</td>\n",
       "      <td>False</td>\n",
       "      <td>False</td>\n",
       "      <td>POINT (142.95000 -3.45000)</td>\n",
       "    </tr>\n",
       "    <tr>\n",
       "      <th>1</th>\n",
       "      <td>aar</td>\n",
       "      <td>Aari</td>\n",
       "      <td>NaN</td>\n",
       "      <td>6.000000</td>\n",
       "      <td>36.583333</td>\n",
       "      <td>aari1239</td>\n",
       "      <td>aiw</td>\n",
       "      <td>Afro-Asiatic</td>\n",
       "      <td>Omotic</td>\n",
       "      <td>South Omotic</td>\n",
       "      <td>aiw</td>\n",
       "      <td>False</td>\n",
       "      <td>False</td>\n",
       "      <td>POINT (36.58333 6.00000)</td>\n",
       "    </tr>\n",
       "    <tr>\n",
       "      <th>2</th>\n",
       "      <td>aba</td>\n",
       "      <td>Abau</td>\n",
       "      <td>NaN</td>\n",
       "      <td>-4.000000</td>\n",
       "      <td>141.250000</td>\n",
       "      <td>abau1245</td>\n",
       "      <td>aau</td>\n",
       "      <td>Sepik</td>\n",
       "      <td>NaN</td>\n",
       "      <td>Upper Sepik</td>\n",
       "      <td>aau</td>\n",
       "      <td>False</td>\n",
       "      <td>False</td>\n",
       "      <td>POINT (141.25000 -4.00000)</td>\n",
       "    </tr>\n",
       "    <tr>\n",
       "      <th>3</th>\n",
       "      <td>abb</td>\n",
       "      <td>Arabic (Chadian)</td>\n",
       "      <td>NaN</td>\n",
       "      <td>13.833333</td>\n",
       "      <td>20.833333</td>\n",
       "      <td>chad1249</td>\n",
       "      <td>shu</td>\n",
       "      <td>Afro-Asiatic</td>\n",
       "      <td>NaN</td>\n",
       "      <td>Semitic</td>\n",
       "      <td>shu</td>\n",
       "      <td>False</td>\n",
       "      <td>False</td>\n",
       "      <td>POINT (20.83333 13.83333)</td>\n",
       "    </tr>\n",
       "    <tr>\n",
       "      <th>4</th>\n",
       "      <td>abd</td>\n",
       "      <td>Abidji</td>\n",
       "      <td>NaN</td>\n",
       "      <td>5.666667</td>\n",
       "      <td>-4.583333</td>\n",
       "      <td>abid1235</td>\n",
       "      <td>abi</td>\n",
       "      <td>Niger-Congo</td>\n",
       "      <td>NaN</td>\n",
       "      <td>Kwa</td>\n",
       "      <td>abi</td>\n",
       "      <td>False</td>\n",
       "      <td>False</td>\n",
       "      <td>POINT (-4.58333 5.66667)</td>\n",
       "    </tr>\n",
       "  </tbody>\n",
       "</table>\n",
       "</div>"
      ],
      "text/plain": [
       "    ID              Name  Macroarea   Latitude   Longitude Glottocode  \\\n",
       "0  aab     Arapesh (Abu)        NaN  -3.450000  142.950000        NaN   \n",
       "1  aar              Aari        NaN   6.000000   36.583333   aari1239   \n",
       "2  aba              Abau        NaN  -4.000000  141.250000   abau1245   \n",
       "3  abb  Arabic (Chadian)        NaN  13.833333   20.833333   chad1249   \n",
       "4  abd            Abidji        NaN   5.666667   -4.583333   abid1235   \n",
       "\n",
       "  ISO639P3code        Family Subfamily           Genus ISO_codes  Samples_100  \\\n",
       "0          NaN    Torricelli       NaN  Kombio-Arapesh       NaN        False   \n",
       "1          aiw  Afro-Asiatic    Omotic    South Omotic       aiw        False   \n",
       "2          aau         Sepik       NaN     Upper Sepik       aau        False   \n",
       "3          shu  Afro-Asiatic       NaN         Semitic       shu        False   \n",
       "4          abi   Niger-Congo       NaN             Kwa       abi        False   \n",
       "\n",
       "   Samples_200                    geometry  \n",
       "0        False  POINT (142.95000 -3.45000)  \n",
       "1        False    POINT (36.58333 6.00000)  \n",
       "2        False  POINT (141.25000 -4.00000)  \n",
       "3        False   POINT (20.83333 13.83333)  \n",
       "4        False    POINT (-4.58333 5.66667)  "
      ]
     },
     "execution_count": 39,
     "metadata": {},
     "output_type": "execute_result"
    }
   ],
   "source": [
    "langs.head()"
   ]
  },
  {
   "cell_type": "code",
   "execution_count": 40,
   "metadata": {},
   "outputs": [
    {
     "data": {
      "text/plain": [
       "2662"
      ]
     },
     "execution_count": 40,
     "metadata": {},
     "output_type": "execute_result"
    }
   ],
   "source": [
    "len(langs)"
   ]
  },
  {
   "cell_type": "code",
   "execution_count": 3,
   "metadata": {},
   "outputs": [],
   "source": [
    "langs_geo = gpd.GeoDataFrame(\n",
    "    langs, geometry=gpd.points_from_xy(langs.Longitude, langs.Latitude)\n",
    ")"
   ]
  },
  {
   "cell_type": "code",
   "execution_count": 36,
   "metadata": {},
   "outputs": [
    {
     "data": {
      "image/png": "[encoded data removed]",
      "text/plain": [
       "<Figure size 720x1152 with 1 Axes>"
      ]
     },
     "metadata": {
      "needs_background": "light"
     },
     "output_type": "display_data"
    }
   ],
   "source": [
    "langmap.plot(langs_geo)\n",
    "plt.show()"
   ]
  },
  {
   "cell_type": "code",
   "execution_count": 38,
   "metadata": {},
   "outputs": [],
   "source": [
    "features = pd.read_csv('data/parameters.csv')"
   ]
  },
  {
   "cell_type": "code",
   "execution_count": 41,
   "metadata": {},
   "outputs": [
    {
     "data": {
      "text/html": [
       "<div>\n",
       "<style scoped>\n",
       "    .dataframe tbody tr th:only-of-type {\n",
       "        vertical-align: middle;\n",
       "    }\n",
       "\n",
       "    .dataframe tbody tr th {\n",
       "        vertical-align: top;\n",
       "    }\n",
       "\n",
       "    .dataframe thead th {\n",
       "        text-align: right;\n",
       "    }\n",
       "</style>\n",
       "<table border=\"1\" class=\"dataframe\">\n",
       "  <thead>\n",
       "    <tr style=\"text-align: right;\">\n",
       "      <th></th>\n",
       "      <th>ID</th>\n",
       "      <th>Name</th>\n",
       "      <th>Description</th>\n",
       "      <th>Contributor_ID</th>\n",
       "      <th>Chapter</th>\n",
       "      <th>Area</th>\n",
       "    </tr>\n",
       "  </thead>\n",
       "  <tbody>\n",
       "    <tr>\n",
       "      <th>0</th>\n",
       "      <td>1A</td>\n",
       "      <td>Consonant Inventories</td>\n",
       "      <td>NaN</td>\n",
       "      <td>maddiesoni</td>\n",
       "      <td>Consonant Inventories</td>\n",
       "      <td>Phonology</td>\n",
       "    </tr>\n",
       "    <tr>\n",
       "      <th>1</th>\n",
       "      <td>2A</td>\n",
       "      <td>Vowel Quality Inventories</td>\n",
       "      <td>NaN</td>\n",
       "      <td>maddiesoni</td>\n",
       "      <td>Vowel Quality Inventories</td>\n",
       "      <td>Phonology</td>\n",
       "    </tr>\n",
       "    <tr>\n",
       "      <th>2</th>\n",
       "      <td>3A</td>\n",
       "      <td>Consonant-Vowel Ratio</td>\n",
       "      <td>NaN</td>\n",
       "      <td>maddiesoni</td>\n",
       "      <td>Consonant-Vowel Ratio</td>\n",
       "      <td>Phonology</td>\n",
       "    </tr>\n",
       "    <tr>\n",
       "      <th>3</th>\n",
       "      <td>4A</td>\n",
       "      <td>Voicing in Plosives and Fricatives</td>\n",
       "      <td>NaN</td>\n",
       "      <td>maddiesoni</td>\n",
       "      <td>Voicing in Plosives and Fricatives</td>\n",
       "      <td>Phonology</td>\n",
       "    </tr>\n",
       "    <tr>\n",
       "      <th>4</th>\n",
       "      <td>5A</td>\n",
       "      <td>Voicing and Gaps in Plosive Systems</td>\n",
       "      <td>NaN</td>\n",
       "      <td>maddiesoni</td>\n",
       "      <td>Voicing and Gaps in Plosive Systems</td>\n",
       "      <td>Phonology</td>\n",
       "    </tr>\n",
       "  </tbody>\n",
       "</table>\n",
       "</div>"
      ],
      "text/plain": [
       "   ID                                 Name  Description Contributor_ID  \\\n",
       "0  1A                Consonant Inventories          NaN     maddiesoni   \n",
       "1  2A            Vowel Quality Inventories          NaN     maddiesoni   \n",
       "2  3A                Consonant-Vowel Ratio          NaN     maddiesoni   \n",
       "3  4A   Voicing in Plosives and Fricatives          NaN     maddiesoni   \n",
       "4  5A  Voicing and Gaps in Plosive Systems          NaN     maddiesoni   \n",
       "\n",
       "                               Chapter       Area  \n",
       "0                Consonant Inventories  Phonology  \n",
       "1            Vowel Quality Inventories  Phonology  \n",
       "2                Consonant-Vowel Ratio  Phonology  \n",
       "3   Voicing in Plosives and Fricatives  Phonology  \n",
       "4  Voicing and Gaps in Plosive Systems  Phonology  "
      ]
     },
     "execution_count": 41,
     "metadata": {},
     "output_type": "execute_result"
    }
   ],
   "source": [
    "features.head()"
   ]
  },
  {
   "cell_type": "code",
   "execution_count": 42,
   "metadata": {},
   "outputs": [
    {
     "data": {
      "text/plain": [
       "192"
      ]
     },
     "execution_count": 42,
     "metadata": {},
     "output_type": "execute_result"
    }
   ],
   "source": [
    "len(features)"
   ]
  },
  {
   "cell_type": "code",
   "execution_count": 43,
   "metadata": {},
   "outputs": [],
   "source": [
    "values = pd.read_csv('data/values.csv')"
   ]
  },
  {
   "cell_type": "code",
   "execution_count": 44,
   "metadata": {},
   "outputs": [
    {
     "data": {
      "text/html": [
       "<div>\n",
       "<style scoped>\n",
       "    .dataframe tbody tr th:only-of-type {\n",
       "        vertical-align: middle;\n",
       "    }\n",
       "\n",
       "    .dataframe tbody tr th {\n",
       "        vertical-align: top;\n",
       "    }\n",
       "\n",
       "    .dataframe thead th {\n",
       "        text-align: right;\n",
       "    }\n",
       "</style>\n",
       "<table border=\"1\" class=\"dataframe\">\n",
       "  <thead>\n",
       "    <tr style=\"text-align: right;\">\n",
       "      <th></th>\n",
       "      <th>ID</th>\n",
       "      <th>Language_ID</th>\n",
       "      <th>Parameter_ID</th>\n",
       "      <th>Value</th>\n",
       "      <th>Code_ID</th>\n",
       "      <th>Comment</th>\n",
       "      <th>Source</th>\n",
       "      <th>Example_ID</th>\n",
       "    </tr>\n",
       "  </thead>\n",
       "  <tbody>\n",
       "    <tr>\n",
       "      <th>0</th>\n",
       "      <td>81A-aab</td>\n",
       "      <td>aab</td>\n",
       "      <td>81A</td>\n",
       "      <td>2</td>\n",
       "      <td>81A-2</td>\n",
       "      <td>NaN</td>\n",
       "      <td>Nekitel-1985[94]</td>\n",
       "      <td>NaN</td>\n",
       "    </tr>\n",
       "    <tr>\n",
       "      <th>1</th>\n",
       "      <td>82A-aab</td>\n",
       "      <td>aab</td>\n",
       "      <td>82A</td>\n",
       "      <td>1</td>\n",
       "      <td>82A-1</td>\n",
       "      <td>NaN</td>\n",
       "      <td>Nekitel-1985[94]</td>\n",
       "      <td>NaN</td>\n",
       "    </tr>\n",
       "    <tr>\n",
       "      <th>2</th>\n",
       "      <td>83A-aab</td>\n",
       "      <td>aab</td>\n",
       "      <td>83A</td>\n",
       "      <td>2</td>\n",
       "      <td>83A-2</td>\n",
       "      <td>NaN</td>\n",
       "      <td>Nekitel-1985[94]</td>\n",
       "      <td>NaN</td>\n",
       "    </tr>\n",
       "    <tr>\n",
       "      <th>3</th>\n",
       "      <td>87A-aab</td>\n",
       "      <td>aab</td>\n",
       "      <td>87A</td>\n",
       "      <td>2</td>\n",
       "      <td>87A-2</td>\n",
       "      <td>NaN</td>\n",
       "      <td>Nekitel-1985[95]</td>\n",
       "      <td>NaN</td>\n",
       "    </tr>\n",
       "    <tr>\n",
       "      <th>4</th>\n",
       "      <td>88A-aab</td>\n",
       "      <td>aab</td>\n",
       "      <td>88A</td>\n",
       "      <td>2</td>\n",
       "      <td>88A-2</td>\n",
       "      <td>NaN</td>\n",
       "      <td>Nekitel-1985[95]</td>\n",
       "      <td>NaN</td>\n",
       "    </tr>\n",
       "  </tbody>\n",
       "</table>\n",
       "</div>"
      ],
      "text/plain": [
       "        ID Language_ID Parameter_ID  Value Code_ID Comment            Source  \\\n",
       "0  81A-aab         aab          81A      2   81A-2     NaN  Nekitel-1985[94]   \n",
       "1  82A-aab         aab          82A      1   82A-1     NaN  Nekitel-1985[94]   \n",
       "2  83A-aab         aab          83A      2   83A-2     NaN  Nekitel-1985[94]   \n",
       "3  87A-aab         aab          87A      2   87A-2     NaN  Nekitel-1985[95]   \n",
       "4  88A-aab         aab          88A      2   88A-2     NaN  Nekitel-1985[95]   \n",
       "\n",
       "  Example_ID  \n",
       "0        NaN  \n",
       "1        NaN  \n",
       "2        NaN  \n",
       "3        NaN  \n",
       "4        NaN  "
      ]
     },
     "execution_count": 44,
     "metadata": {},
     "output_type": "execute_result"
    }
   ],
   "source": [
    "values.head()"
   ]
  },
  {
   "cell_type": "code",
   "execution_count": null,
   "metadata": {},
   "outputs": [],
   "source": []
  }
 ],
 "metadata": {
  "kernelspec": {
   "display_name": "sils",
   "language": "python",
   "name": "sils"
  },
  "language_info": {
   "codemirror_mode": {
    "name": "ipython",
    "version": 3
   },
   "file_extension": ".py",
   "mimetype": "text/x-python",
   "name": "python",
   "nbconvert_exporter": "python",
   "pygments_lexer": "ipython3",
   "version": "3.8.2"
  }
 },
 "nbformat": 4,
 "nbformat_minor": 4
}
